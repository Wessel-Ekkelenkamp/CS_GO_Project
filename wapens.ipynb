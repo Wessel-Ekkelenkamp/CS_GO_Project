{
 "cells": [
  {
   "cell_type": "code",
   "execution_count": 1,
   "id": "afa87e99",
   "metadata": {},
   "outputs": [],
   "source": [
    "#imports\n",
    "import pandas as pd \n",
    "from awpy.parser import DemoParser\n",
    "from awpy.analytics.stats import player_stats\n",
    "import json\n",
    "import matplotlib.pyplot as plt\n",
    "from awpy.visualization.plot import plot_map\n",
    "from awpy.visualization.plot import plot_round\n",
    "from IPython.display import Image\n",
    "import os, sys\n",
    "import seaborn as sns"
   ]
  },
  {
   "cell_type": "code",
   "execution_count": 2,
   "id": "f46d0c35",
   "metadata": {},
   "outputs": [],
   "source": [
    "games = []\n",
    "for jsn in os.listdir(\"C:/Users/morri/Documents/Jupyter Notebooks/POC_CSGO/demos\"):\n",
    "    game = json.load(open(\"C:/Users/morri/Documents/Jupyter Notebooks/POC_CSGO/demos/{}\".format(jsn)))\n",
    "    games.append(game)\n"
   ]
  },
  {
   "cell_type": "markdown",
   "id": "06ea03fa",
   "metadata": {},
   "source": [
    "Hier maken we een lijst aan waar alle demo json bestanden in gezet worden. Hier gaan we later door loopen."
   ]
  },
  {
   "cell_type": "code",
   "execution_count": 3,
   "id": "67d38d70",
   "metadata": {},
   "outputs": [
    {
     "data": {
      "text/plain": [
       "['Glock-18',\n",
       " 'P250',\n",
       " 'USP-S',\n",
       " 'MAC-10',\n",
       " 'Desert Eagle',\n",
       " 'SSG 08',\n",
       " 'Galil AR',\n",
       " 'AK-47',\n",
       " 'M4A1',\n",
       " 'AWP',\n",
       " 'C4',\n",
       " 'Molotov',\n",
       " 'HE Grenade',\n",
       " 'Tec-9',\n",
       " 'MP9',\n",
       " 'Incendiary Grenade',\n",
       " 'FAMAS',\n",
       " 'Five-SeveN',\n",
       " 'UMP-45',\n",
       " 'Dual Berettas',\n",
       " 'CZ75 Auto',\n",
       " 'P2000',\n",
       " 'Knife',\n",
       " 'XM1014']"
      ]
     },
     "execution_count": 3,
     "metadata": {},
     "output_type": "execute_result"
    }
   ],
   "source": [
    "weapons = []\n",
    "for game in games:\n",
    "    i = 0\n",
    "    for gameround in game['gameRounds']:\n",
    "        j = 0\n",
    "        for kill in gameround['kills']:\n",
    "            if kill['weapon'] not in weapons:\n",
    "              weapons.append(kill['weapon'])  \n",
    "            j += 1  \n",
    "        i += 1\n",
    "weapons"
   ]
  },
  {
   "cell_type": "markdown",
   "id": "13fea682",
   "metadata": {},
   "source": [
    "Hier maken we een lijst aan met alle wapens die gebruikt worden om een speler te doden. Hier kunnen we later mee bij houden hoe vaak elk wapen een speler dood."
   ]
  },
  {
   "cell_type": "code",
   "execution_count": 4,
   "id": "46698d33",
   "metadata": {},
   "outputs": [
    {
     "data": {
      "text/plain": [
       "{'Glock-18': 0,\n",
       " 'P250': 0,\n",
       " 'USP-S': 0,\n",
       " 'MAC-10': 0,\n",
       " 'Desert Eagle': 0,\n",
       " 'SSG 08': 0,\n",
       " 'Galil AR': 0,\n",
       " 'AK-47': 0,\n",
       " 'M4A1': 0,\n",
       " 'AWP': 0,\n",
       " 'C4': 0,\n",
       " 'Molotov': 0,\n",
       " 'HE Grenade': 0,\n",
       " 'Tec-9': 0,\n",
       " 'MP9': 0,\n",
       " 'Incendiary Grenade': 0,\n",
       " 'FAMAS': 0,\n",
       " 'Five-SeveN': 0,\n",
       " 'UMP-45': 0,\n",
       " 'Dual Berettas': 0,\n",
       " 'CZ75 Auto': 0,\n",
       " 'P2000': 0,\n",
       " 'Knife': 0,\n",
       " 'XM1014': 0}"
      ]
     },
     "execution_count": 4,
     "metadata": {},
     "output_type": "execute_result"
    }
   ],
   "source": [
    "\n",
    "#init dict's of maps\n",
    "#map_dict_mouz = {}\n",
    "#map_dict_enemy = {}\n",
    "weapon_dict = {}\n",
    "i=0\n",
    "for k in weapons:\n",
    "    #map_dict_mouz[maps[i]] = []\n",
    "    #map_dict_enemy[maps[i]] = []\n",
    "    weapon_dict[weapons[i]] = 0\n",
    "    i += 1\n",
    "\n",
    "weapon_dict\n",
    "#weapon_dict[weapons[i]] += 1"
   ]
  },
  {
   "cell_type": "markdown",
   "id": "dcbe1ce7",
   "metadata": {},
   "source": [
    "Dit zet de lijst met wapens om in een dictionary, waarmee we values kunnen toevoegen."
   ]
  },
  {
   "cell_type": "code",
   "execution_count": 5,
   "id": "ee86c442",
   "metadata": {},
   "outputs": [
    {
     "name": "stdout",
     "output_type": "stream",
     "text": [
      "{'Glock-18': 111, 'P250': 40, 'USP-S': 118, 'MAC-10': 46, 'Desert Eagle': 81, 'SSG 08': 14, 'Galil AR': 106, 'AK-47': 1050, 'M4A1': 800, 'AWP': 368, 'C4': 24, 'Molotov': 8, 'HE Grenade': 36, 'Tec-9': 24, 'MP9': 61, 'Incendiary Grenade': 15, 'FAMAS': 66, 'Five-SeveN': 23, 'UMP-45': 9, 'Dual Berettas': 29, 'CZ75 Auto': 2, 'P2000': 1, 'Knife': 2, 'XM1014': 1}\n"
     ]
    }
   ],
   "source": [
    "for game in games:\n",
    "    i = 0\n",
    "    for gameround in game['gameRounds']:\n",
    "        number_of_kills = 0\n",
    "        j = 0\n",
    "        for kill in gameround['kills']:\n",
    "            weapon_dict[gameround['kills'][j]['weapon']] +=1\n",
    "            j += 1  \n",
    "        i += 1\n",
    "print(weapon_dict)"
   ]
  },
  {
   "cell_type": "markdown",
   "id": "71cacc31",
   "metadata": {},
   "source": [
    "Nu gaan we door elke game, door elke gameround, en elke kill. Er wordt dan gekeken welk wapen werdt gebruikt. De value van dat wapen wordt dan met 1 verhoogd."
   ]
  },
  {
   "cell_type": "code",
   "execution_count": 6,
   "id": "b030f744",
   "metadata": {},
   "outputs": [
    {
     "data": {
      "text/html": [
       "<div>\n",
       "<style scoped>\n",
       "    .dataframe tbody tr th:only-of-type {\n",
       "        vertical-align: middle;\n",
       "    }\n",
       "\n",
       "    .dataframe tbody tr th {\n",
       "        vertical-align: top;\n",
       "    }\n",
       "\n",
       "    .dataframe thead th {\n",
       "        text-align: right;\n",
       "    }\n",
       "</style>\n",
       "<table border=\"1\" class=\"dataframe\">\n",
       "  <thead>\n",
       "    <tr style=\"text-align: right;\">\n",
       "      <th></th>\n",
       "      <th>0</th>\n",
       "    </tr>\n",
       "  </thead>\n",
       "  <tbody>\n",
       "    <tr>\n",
       "      <th>Glock-18</th>\n",
       "      <td>111</td>\n",
       "    </tr>\n",
       "    <tr>\n",
       "      <th>P250</th>\n",
       "      <td>40</td>\n",
       "    </tr>\n",
       "    <tr>\n",
       "      <th>USP-S</th>\n",
       "      <td>118</td>\n",
       "    </tr>\n",
       "    <tr>\n",
       "      <th>MAC-10</th>\n",
       "      <td>46</td>\n",
       "    </tr>\n",
       "    <tr>\n",
       "      <th>Desert Eagle</th>\n",
       "      <td>81</td>\n",
       "    </tr>\n",
       "    <tr>\n",
       "      <th>SSG 08</th>\n",
       "      <td>14</td>\n",
       "    </tr>\n",
       "    <tr>\n",
       "      <th>Galil AR</th>\n",
       "      <td>106</td>\n",
       "    </tr>\n",
       "    <tr>\n",
       "      <th>AK-47</th>\n",
       "      <td>1050</td>\n",
       "    </tr>\n",
       "    <tr>\n",
       "      <th>M4A1</th>\n",
       "      <td>800</td>\n",
       "    </tr>\n",
       "    <tr>\n",
       "      <th>AWP</th>\n",
       "      <td>368</td>\n",
       "    </tr>\n",
       "    <tr>\n",
       "      <th>C4</th>\n",
       "      <td>24</td>\n",
       "    </tr>\n",
       "    <tr>\n",
       "      <th>Molotov</th>\n",
       "      <td>8</td>\n",
       "    </tr>\n",
       "    <tr>\n",
       "      <th>HE Grenade</th>\n",
       "      <td>36</td>\n",
       "    </tr>\n",
       "    <tr>\n",
       "      <th>Tec-9</th>\n",
       "      <td>24</td>\n",
       "    </tr>\n",
       "    <tr>\n",
       "      <th>MP9</th>\n",
       "      <td>61</td>\n",
       "    </tr>\n",
       "    <tr>\n",
       "      <th>Incendiary Grenade</th>\n",
       "      <td>15</td>\n",
       "    </tr>\n",
       "    <tr>\n",
       "      <th>FAMAS</th>\n",
       "      <td>66</td>\n",
       "    </tr>\n",
       "    <tr>\n",
       "      <th>Five-SeveN</th>\n",
       "      <td>23</td>\n",
       "    </tr>\n",
       "    <tr>\n",
       "      <th>UMP-45</th>\n",
       "      <td>9</td>\n",
       "    </tr>\n",
       "    <tr>\n",
       "      <th>Dual Berettas</th>\n",
       "      <td>29</td>\n",
       "    </tr>\n",
       "    <tr>\n",
       "      <th>CZ75 Auto</th>\n",
       "      <td>2</td>\n",
       "    </tr>\n",
       "    <tr>\n",
       "      <th>P2000</th>\n",
       "      <td>1</td>\n",
       "    </tr>\n",
       "    <tr>\n",
       "      <th>Knife</th>\n",
       "      <td>2</td>\n",
       "    </tr>\n",
       "    <tr>\n",
       "      <th>XM1014</th>\n",
       "      <td>1</td>\n",
       "    </tr>\n",
       "  </tbody>\n",
       "</table>\n",
       "</div>"
      ],
      "text/plain": [
       "                       0\n",
       "Glock-18             111\n",
       "P250                  40\n",
       "USP-S                118\n",
       "MAC-10                46\n",
       "Desert Eagle          81\n",
       "SSG 08                14\n",
       "Galil AR             106\n",
       "AK-47               1050\n",
       "M4A1                 800\n",
       "AWP                  368\n",
       "C4                    24\n",
       "Molotov                8\n",
       "HE Grenade            36\n",
       "Tec-9                 24\n",
       "MP9                   61\n",
       "Incendiary Grenade    15\n",
       "FAMAS                 66\n",
       "Five-SeveN            23\n",
       "UMP-45                 9\n",
       "Dual Berettas         29\n",
       "CZ75 Auto              2\n",
       "P2000                  1\n",
       "Knife                  2\n",
       "XM1014                 1"
      ]
     },
     "execution_count": 6,
     "metadata": {},
     "output_type": "execute_result"
    }
   ],
   "source": [
    "df = pd.DataFrame.from_dict(data = weapon_dict, orient='index')\n",
    "df"
   ]
  },
  {
   "cell_type": "code",
   "execution_count": 7,
   "id": "20ab71d8",
   "metadata": {},
   "outputs": [
    {
     "data": {
      "text/plain": [
       "<function matplotlib.pyplot.show(close=None, block=None)>"
      ]
     },
     "execution_count": 7,
     "metadata": {},
     "output_type": "execute_result"
    },
    {
     "data": {
      "image/png": "[encoded data removed]",
      "text/plain": [
       "<Figure size 640x480 with 1 Axes>"
      ]
     },
     "metadata": {},
     "output_type": "display_data"
    }
   ],
   "source": [
    "keys = list(weapon_dict.keys())\n",
    "vals = [float(weapon_dict[k]) for k in keys]\n",
    "\n",
    "sns.barplot(x=keys, y=vals)\n",
    "plt.xticks(rotation=90)\n",
    "plt.title(\"Kills per wapen\")\n",
    "plt.xlabel(\"Wapen\")\n",
    "plt.ylabel(\"Kills\")\n",
    "plt.show"
   ]
  },
  {
   "cell_type": "markdown",
   "id": "fd3037fb",
   "metadata": {},
   "source": [
    "Dit genereert een staafgrafiek met de wapens op de x-as, en het aantal kills dat elk wapen heeft op de y-as. Hier kunnen we zien dat De AK-47 de meeste kills heeft, gevolgd door the M4A1 en de AWP. Deze wapens hebben veel meer kills dan de anderen. De rest komt amper boven 100 kills uit.\n",
    "\n",
    "Hieruit valt te concluderen dat de AK-47, M4A1 en AWP de beste keuzes zijn als je veel kills wil krijgen. De rest van de wapens, blijken veel minder kills te krijgen. De P2000 en XM1014 hebben allebei zelfs maar 1 kill, die wil je dus absoluut vermijden."
   ]
  },
  {
   "cell_type": "code",
   "execution_count": null,
   "id": "682da629",
   "metadata": {},
   "outputs": [],
   "source": []
  }
 ],
 "metadata": {
  "kernelspec": {
   "display_name": "Python 3 (ipykernel)",
   "language": "python",
   "name": "python3"
  },
  "language_info": {
   "codemirror_mode": {
    "name": "ipython",
    "version": 3
   },
   "file_extension": ".py",
   "mimetype": "text/x-python",
   "name": "python",
   "nbconvert_exporter": "python",
   "pygments_lexer": "ipython3",
   "version": "3.9.13"
  }
 },
 "nbformat": 4,
 "nbformat_minor": 5
}
